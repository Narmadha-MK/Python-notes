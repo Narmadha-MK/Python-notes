{
 "cells": [
  {
   "cell_type": "markdown",
   "id": "feb302e0",
   "metadata": {},
   "source": [
    "### Operators\n",
    "\n",
    "Operators are used to perform operations on variables and values."
   ]
  },
  {
   "cell_type": "markdown",
   "id": "e87e2e4a",
   "metadata": {},
   "source": [
    "### Arithmetic operators"
   ]
  },
  {
   "cell_type": "code",
   "execution_count": 1,
   "id": "1cd836c1",
   "metadata": {},
   "outputs": [
    {
     "data": {
      "text/plain": [
       "8"
      ]
     },
     "execution_count": 1,
     "metadata": {},
     "output_type": "execute_result"
    }
   ],
   "source": [
    "3+5"
   ]
  },
  {
   "cell_type": "code",
   "execution_count": 2,
   "id": "26eb6e03",
   "metadata": {},
   "outputs": [
    {
     "data": {
      "text/plain": [
       "2"
      ]
     },
     "execution_count": 2,
     "metadata": {},
     "output_type": "execute_result"
    }
   ],
   "source": [
    "5-3"
   ]
  },
  {
   "cell_type": "code",
   "execution_count": 3,
   "id": "66005c5c",
   "metadata": {},
   "outputs": [
    {
     "data": {
      "text/plain": [
       "6"
      ]
     },
     "execution_count": 3,
     "metadata": {},
     "output_type": "execute_result"
    }
   ],
   "source": [
    "3*2"
   ]
  },
  {
   "cell_type": "code",
   "execution_count": 4,
   "id": "09e03601",
   "metadata": {},
   "outputs": [
    {
     "data": {
      "text/plain": [
       "2.0"
      ]
     },
     "execution_count": 4,
     "metadata": {},
     "output_type": "execute_result"
    }
   ],
   "source": [
    "12/6"
   ]
  },
  {
   "cell_type": "code",
   "execution_count": 5,
   "id": "ba3d8841",
   "metadata": {},
   "outputs": [
    {
     "data": {
      "text/plain": [
       "2"
      ]
     },
     "execution_count": 5,
     "metadata": {},
     "output_type": "execute_result"
    }
   ],
   "source": [
    "10//4 # quotient(floor division)"
   ]
  },
  {
   "cell_type": "code",
   "execution_count": 6,
   "id": "342e66de",
   "metadata": {},
   "outputs": [
    {
     "data": {
      "text/plain": [
       "2"
      ]
     },
     "execution_count": 6,
     "metadata": {},
     "output_type": "execute_result"
    }
   ],
   "source": [
    "10%4 #remainder(modulus)"
   ]
  },
  {
   "cell_type": "code",
   "execution_count": 7,
   "id": "3e757cf4",
   "metadata": {},
   "outputs": [
    {
     "data": {
      "text/plain": [
       "16"
      ]
     },
     "execution_count": 7,
     "metadata": {},
     "output_type": "execute_result"
    }
   ],
   "source": [
    "2**4 #exponential"
   ]
  },
  {
   "cell_type": "markdown",
   "id": "edf5cea5",
   "metadata": {},
   "source": [
    "### Assignment operator"
   ]
  },
  {
   "cell_type": "code",
   "execution_count": 11,
   "id": "c2335b2d",
   "metadata": {},
   "outputs": [],
   "source": [
    "a=2\n",
    "b=2"
   ]
  },
  {
   "cell_type": "code",
   "execution_count": 12,
   "id": "6142a047",
   "metadata": {},
   "outputs": [
    {
     "data": {
      "text/plain": [
       "True"
      ]
     },
     "execution_count": 12,
     "metadata": {},
     "output_type": "execute_result"
    }
   ],
   "source": [
    "a==b"
   ]
  },
  {
   "cell_type": "code",
   "execution_count": 13,
   "id": "a7ba28c6",
   "metadata": {},
   "outputs": [
    {
     "data": {
      "text/plain": [
       "False"
      ]
     },
     "execution_count": 13,
     "metadata": {},
     "output_type": "execute_result"
    }
   ],
   "source": [
    "a!=b"
   ]
  },
  {
   "cell_type": "code",
   "execution_count": 14,
   "id": "6ceb53e2",
   "metadata": {},
   "outputs": [
    {
     "data": {
      "text/plain": [
       "False"
      ]
     },
     "execution_count": 14,
     "metadata": {},
     "output_type": "execute_result"
    }
   ],
   "source": [
    "a>b"
   ]
  },
  {
   "cell_type": "code",
   "execution_count": 15,
   "id": "06b93255",
   "metadata": {},
   "outputs": [
    {
     "data": {
      "text/plain": [
       "False"
      ]
     },
     "execution_count": 15,
     "metadata": {},
     "output_type": "execute_result"
    }
   ],
   "source": [
    "a<b"
   ]
  },
  {
   "cell_type": "code",
   "execution_count": 16,
   "id": "b0ce38a3",
   "metadata": {},
   "outputs": [
    {
     "data": {
      "text/plain": [
       "True"
      ]
     },
     "execution_count": 16,
     "metadata": {},
     "output_type": "execute_result"
    }
   ],
   "source": [
    "a<=b"
   ]
  },
  {
   "cell_type": "code",
   "execution_count": 17,
   "id": "adcb6cc6",
   "metadata": {},
   "outputs": [
    {
     "data": {
      "text/plain": [
       "True"
      ]
     },
     "execution_count": 17,
     "metadata": {},
     "output_type": "execute_result"
    }
   ],
   "source": [
    "a>=b"
   ]
  },
  {
   "cell_type": "markdown",
   "id": "827b3175",
   "metadata": {},
   "source": [
    "### Compound data type\n",
    "\n",
    "Compound data type is a type of data that allows multiple valaues or data types\n",
    "\n",
    "\n"
   ]
  },
  {
   "cell_type": "markdown",
   "id": "01d848a3",
   "metadata": {},
   "source": [
    "### List[]\n",
    "\n",
    "List is a collection which is ordered and changeable.allows duplicate members"
   ]
  },
  {
   "cell_type": "code",
   "execution_count": 34,
   "id": "99355c0c",
   "metadata": {},
   "outputs": [],
   "source": [
    "b=[\"tanish\",5,\"aadhira\"]"
   ]
  },
  {
   "cell_type": "code",
   "execution_count": 35,
   "id": "ee72938f",
   "metadata": {},
   "outputs": [
    {
     "data": {
      "text/plain": [
       "list"
      ]
     },
     "execution_count": 35,
     "metadata": {},
     "output_type": "execute_result"
    }
   ],
   "source": [
    "type(b)"
   ]
  },
  {
   "cell_type": "code",
   "execution_count": 36,
   "id": "34abb7f4",
   "metadata": {},
   "outputs": [
    {
     "name": "stdout",
     "output_type": "stream",
     "text": [
      "['tanish', 5, 'aadhira']\n"
     ]
    }
   ],
   "source": [
    "print(b)"
   ]
  },
  {
   "cell_type": "code",
   "execution_count": 37,
   "id": "be7ad109",
   "metadata": {},
   "outputs": [
    {
     "data": {
      "text/plain": [
       "1"
      ]
     },
     "execution_count": 37,
     "metadata": {},
     "output_type": "execute_result"
    }
   ],
   "source": [
    "b.count(5)  "
   ]
  },
  {
   "cell_type": "code",
   "execution_count": 38,
   "id": "a27b5039",
   "metadata": {},
   "outputs": [],
   "source": [
    "b.append(6) # adds the value at the end"
   ]
  },
  {
   "cell_type": "code",
   "execution_count": 40,
   "id": "4c25d47b",
   "metadata": {},
   "outputs": [
    {
     "data": {
      "text/plain": [
       "['tanish', 5, 'aadhira', 6]"
      ]
     },
     "execution_count": 40,
     "metadata": {},
     "output_type": "execute_result"
    }
   ],
   "source": [
    "b"
   ]
  },
  {
   "cell_type": "code",
   "execution_count": 47,
   "id": "e6220f31",
   "metadata": {},
   "outputs": [],
   "source": [
    "b.extend(\"Tejswini\")"
   ]
  },
  {
   "cell_type": "code",
   "execution_count": 49,
   "id": "8539402a",
   "metadata": {},
   "outputs": [
    {
     "data": {
      "text/plain": [
       "1"
      ]
     },
     "execution_count": 49,
     "metadata": {},
     "output_type": "execute_result"
    }
   ],
   "source": [
    "b.index(5)"
   ]
  },
  {
   "cell_type": "code",
   "execution_count": 50,
   "id": "17af948d",
   "metadata": {},
   "outputs": [
    {
     "data": {
      "text/plain": [
       "4"
      ]
     },
     "execution_count": 50,
     "metadata": {},
     "output_type": "execute_result"
    }
   ],
   "source": [
    "b.index(\"p\")"
   ]
  },
  {
   "cell_type": "code",
   "execution_count": 54,
   "id": "f980a976",
   "metadata": {},
   "outputs": [],
   "source": [
    "b.insert(5,6)"
   ]
  },
  {
   "cell_type": "code",
   "execution_count": 57,
   "id": "d56a0255",
   "metadata": {},
   "outputs": [
    {
     "data": {
      "text/plain": [
       "'i'"
      ]
     },
     "execution_count": 57,
     "metadata": {},
     "output_type": "execute_result"
    }
   ],
   "source": [
    "b[-1]"
   ]
  },
  {
   "cell_type": "code",
   "execution_count": 58,
   "id": "d8fa65a7",
   "metadata": {},
   "outputs": [],
   "source": [
    "b[1]=2"
   ]
  },
  {
   "cell_type": "code",
   "execution_count": 59,
   "id": "38058c8d",
   "metadata": {},
   "outputs": [
    {
     "data": {
      "text/plain": [
       "['tanish',\n",
       " 2,\n",
       " 'aadhira',\n",
       " 6,\n",
       " 'p',\n",
       " 6,\n",
       " 6,\n",
       " 'r',\n",
       " 'a',\n",
       " 'j',\n",
       " 'a',\n",
       " 'n',\n",
       " 'T',\n",
       " 'e',\n",
       " 'j',\n",
       " 's',\n",
       " 'w',\n",
       " 'i',\n",
       " 'n',\n",
       " 'i']"
      ]
     },
     "execution_count": 59,
     "metadata": {},
     "output_type": "execute_result"
    }
   ],
   "source": [
    "b"
   ]
  },
  {
   "cell_type": "code",
   "execution_count": 60,
   "id": "49551816",
   "metadata": {},
   "outputs": [],
   "source": [
    "b.reverse()"
   ]
  },
  {
   "cell_type": "code",
   "execution_count": 61,
   "id": "39523a49",
   "metadata": {},
   "outputs": [
    {
     "data": {
      "text/plain": [
       "['i',\n",
       " 'n',\n",
       " 'i',\n",
       " 'w',\n",
       " 's',\n",
       " 'j',\n",
       " 'e',\n",
       " 'T',\n",
       " 'n',\n",
       " 'a',\n",
       " 'j',\n",
       " 'a',\n",
       " 'r',\n",
       " 6,\n",
       " 6,\n",
       " 'p',\n",
       " 6,\n",
       " 'aadhira',\n",
       " 2,\n",
       " 'tanish']"
      ]
     },
     "execution_count": 61,
     "metadata": {},
     "output_type": "execute_result"
    }
   ],
   "source": [
    "b"
   ]
  },
  {
   "cell_type": "code",
   "execution_count": 62,
   "id": "0c2b7730",
   "metadata": {},
   "outputs": [],
   "source": [
    "b.clear()"
   ]
  },
  {
   "cell_type": "code",
   "execution_count": 63,
   "id": "139e2bfc",
   "metadata": {},
   "outputs": [
    {
     "data": {
      "text/plain": [
       "[]"
      ]
     },
     "execution_count": 63,
     "metadata": {},
     "output_type": "execute_result"
    }
   ],
   "source": [
    "b"
   ]
  },
  {
   "cell_type": "markdown",
   "id": "4bdfa5ac",
   "metadata": {},
   "source": [
    "###  Tuple()\n",
    "\n",
    "Tuple is a collection which is ordered and unchangeable.allows duplicate members."
   ]
  },
  {
   "cell_type": "code",
   "execution_count": 1,
   "id": "9b4a0f8f",
   "metadata": {},
   "outputs": [],
   "source": [
    "b=(3,4,\"Aadhira\")"
   ]
  },
  {
   "cell_type": "code",
   "execution_count": 2,
   "id": "014b5329",
   "metadata": {},
   "outputs": [
    {
     "data": {
      "text/plain": [
       "tuple"
      ]
     },
     "execution_count": 2,
     "metadata": {},
     "output_type": "execute_result"
    }
   ],
   "source": [
    "type(b)"
   ]
  },
  {
   "cell_type": "code",
   "execution_count": 3,
   "id": "00d5ed22",
   "metadata": {},
   "outputs": [
    {
     "data": {
      "text/plain": [
       "(3, 4, 'Aadhira')"
      ]
     },
     "execution_count": 3,
     "metadata": {},
     "output_type": "execute_result"
    }
   ],
   "source": [
    "b"
   ]
  },
  {
   "cell_type": "code",
   "execution_count": 4,
   "id": "e18a0e1f",
   "metadata": {},
   "outputs": [
    {
     "data": {
      "text/plain": [
       "1"
      ]
     },
     "execution_count": 4,
     "metadata": {},
     "output_type": "execute_result"
    }
   ],
   "source": [
    "b.count(4)"
   ]
  },
  {
   "cell_type": "code",
   "execution_count": 6,
   "id": "848380fd",
   "metadata": {},
   "outputs": [
    {
     "data": {
      "text/plain": [
       "0"
      ]
     },
     "execution_count": 6,
     "metadata": {},
     "output_type": "execute_result"
    }
   ],
   "source": [
    "b.index(3)"
   ]
  },
  {
   "cell_type": "code",
   "execution_count": 7,
   "id": "694269ae",
   "metadata": {},
   "outputs": [
    {
     "data": {
      "text/plain": [
       "3"
      ]
     },
     "execution_count": 7,
     "metadata": {},
     "output_type": "execute_result"
    }
   ],
   "source": [
    "b[0]"
   ]
  },
  {
   "cell_type": "markdown",
   "id": "9160a258",
   "metadata": {},
   "source": [
    "### Set{}\n",
    "\n",
    "Set is a collection which is unordered,unchangeable.Does not allow duplicate members"
   ]
  },
  {
   "cell_type": "code",
   "execution_count": 10,
   "id": "8f81c246",
   "metadata": {},
   "outputs": [],
   "source": [
    "a={4,5,5,\"Tanish\"}"
   ]
  },
  {
   "cell_type": "code",
   "execution_count": 11,
   "id": "53fdeca9",
   "metadata": {},
   "outputs": [
    {
     "data": {
      "text/plain": [
       "set"
      ]
     },
     "execution_count": 11,
     "metadata": {},
     "output_type": "execute_result"
    }
   ],
   "source": [
    "type(a)"
   ]
  },
  {
   "cell_type": "code",
   "execution_count": 14,
   "id": "82222c3e",
   "metadata": {},
   "outputs": [
    {
     "data": {
      "text/plain": [
       "{4, 5, 'Tanish'}"
      ]
     },
     "execution_count": 14,
     "metadata": {},
     "output_type": "execute_result"
    }
   ],
   "source": [
    "a   # no duplicates"
   ]
  },
  {
   "cell_type": "markdown",
   "id": "94cc7e8b",
   "metadata": {},
   "source": [
    "### Dictionary{}\n",
    "\n",
    "Dictionary is a collection which is ordered and changeable.Does not allow duplicate members."
   ]
  },
  {
   "cell_type": "code",
   "execution_count": 18,
   "id": "cb07563a",
   "metadata": {},
   "outputs": [],
   "source": [
    "p={'name':'Tanish',\n",
    "   'age':7}  #key: value"
   ]
  },
  {
   "cell_type": "code",
   "execution_count": 19,
   "id": "a94be27b",
   "metadata": {},
   "outputs": [
    {
     "data": {
      "text/plain": [
       "dict"
      ]
     },
     "execution_count": 19,
     "metadata": {},
     "output_type": "execute_result"
    }
   ],
   "source": [
    "type(p)"
   ]
  },
  {
   "cell_type": "code",
   "execution_count": 22,
   "id": "7c9bcab0",
   "metadata": {},
   "outputs": [
    {
     "data": {
      "text/plain": [
       "dict_keys(['name', 'age'])"
      ]
     },
     "execution_count": 22,
     "metadata": {},
     "output_type": "execute_result"
    }
   ],
   "source": [
    "p.keys()"
   ]
  },
  {
   "cell_type": "code",
   "execution_count": 23,
   "id": "00dd00ed",
   "metadata": {},
   "outputs": [
    {
     "data": {
      "text/plain": [
       "dict_values(['Tanish', 7])"
      ]
     },
     "execution_count": 23,
     "metadata": {},
     "output_type": "execute_result"
    }
   ],
   "source": [
    "p.values()"
   ]
  },
  {
   "cell_type": "code",
   "execution_count": 26,
   "id": "8dd8bf37",
   "metadata": {
    "scrolled": true
   },
   "outputs": [
    {
     "data": {
      "text/plain": [
       "'Tanish'"
      ]
     },
     "execution_count": 26,
     "metadata": {},
     "output_type": "execute_result"
    }
   ],
   "source": [
    "p['name']"
   ]
  },
  {
   "cell_type": "code",
   "execution_count": 27,
   "id": "04decd9a",
   "metadata": {},
   "outputs": [
    {
     "data": {
      "text/plain": [
       "7"
      ]
     },
     "execution_count": 27,
     "metadata": {},
     "output_type": "execute_result"
    }
   ],
   "source": [
    "p['age']"
   ]
  },
  {
   "cell_type": "code",
   "execution_count": 28,
   "id": "4eae0ec9",
   "metadata": {},
   "outputs": [
    {
     "data": {
      "text/plain": [
       "dict_items([('name', 'Tanish'), ('age', 7)])"
      ]
     },
     "execution_count": 28,
     "metadata": {},
     "output_type": "execute_result"
    }
   ],
   "source": [
    "p.items()"
   ]
  },
  {
   "cell_type": "code",
   "execution_count": 29,
   "id": "194c9c9f",
   "metadata": {},
   "outputs": [],
   "source": [
    "p['name']=\"Prajan\""
   ]
  },
  {
   "cell_type": "code",
   "execution_count": 30,
   "id": "188cb709",
   "metadata": {},
   "outputs": [
    {
     "data": {
      "text/plain": [
       "{'name': 'Prajan', 'age': 7}"
      ]
     },
     "execution_count": 30,
     "metadata": {},
     "output_type": "execute_result"
    }
   ],
   "source": [
    "p"
   ]
  }
 ],
 "metadata": {
  "kernelspec": {
   "display_name": "Python 3 (ipykernel)",
   "language": "python",
   "name": "python3"
  },
  "language_info": {
   "codemirror_mode": {
    "name": "ipython",
    "version": 3
   },
   "file_extension": ".py",
   "mimetype": "text/x-python",
   "name": "python",
   "nbconvert_exporter": "python",
   "pygments_lexer": "ipython3",
   "version": "3.11.4"
  }
 },
 "nbformat": 4,
 "nbformat_minor": 5
}
