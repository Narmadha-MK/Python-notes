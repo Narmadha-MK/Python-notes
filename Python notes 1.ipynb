{
 "cells": [
  {
   "cell_type": "markdown",
   "id": "cfe369ad",
   "metadata": {},
   "source": [
    "### INTRODUCTION TO PYTHON\n",
    "\n",
    "\n",
    "Python is a popular programming language. It was created by Guido van Rossum, and released in 1991.\n",
    "\n",
    "It is used for:\n",
    "\n",
    "web development (server-side),\n",
    "software development,\n",
    "mathematics,\n",
    "system scripting.\n",
    "\n",
    "### Creating a comment\n",
    "Comments starts with a #, and Python will ignore them:\n",
    "#This is a comment\n",
    "print(\"Hello, World!\")\n"
   ]
  },
  {
   "cell_type": "markdown",
   "id": "9b9dd8a6",
   "metadata": {},
   "source": [
    "## Variables\n",
    "Variables are containers for storing data values.\n",
    "Rules:\n",
    "Should not begin with the integer.\n",
    "should not begin with special chracters other than _(underscore)\n",
    "Should begin with alphabet\n",
    "space not allowed and it is case sensitive"
   ]
  },
  {
   "cell_type": "code",
   "execution_count": 1,
   "id": "ffc17e16",
   "metadata": {},
   "outputs": [
    {
     "name": "stdout",
     "output_type": "stream",
     "text": [
      "3\n"
     ]
    }
   ],
   "source": [
    "a=3\n",
    "print(a)"
   ]
  },
  {
   "cell_type": "code",
   "execution_count": 2,
   "id": "5eeb1761",
   "metadata": {},
   "outputs": [
    {
     "name": "stdout",
     "output_type": "stream",
     "text": [
      "4 5\n"
     ]
    }
   ],
   "source": [
    "a=4\n",
    "A=5\n",
    "print(a,A)"
   ]
  },
  {
   "cell_type": "markdown",
   "id": "13c82ac1",
   "metadata": {},
   "source": [
    "### Variable update"
   ]
  },
  {
   "cell_type": "code",
   "execution_count": 3,
   "id": "407b41b7",
   "metadata": {},
   "outputs": [
    {
     "name": "stdout",
     "output_type": "stream",
     "text": [
      "6\n"
     ]
    }
   ],
   "source": [
    "a=6\n",
    "print(a)"
   ]
  },
  {
   "cell_type": "markdown",
   "id": "08b6e1bd",
   "metadata": {},
   "source": [
    "### Assigning multiple values to multiple variables\n",
    "\n",
    "Python allows you to assingn many values to the many variables in one line\n",
    "\n"
   ]
  },
  {
   "cell_type": "code",
   "execution_count": 4,
   "id": "302bd787",
   "metadata": {},
   "outputs": [
    {
     "name": "stdout",
     "output_type": "stream",
     "text": [
      "Tanish Aadhira Darshan\n"
     ]
    }
   ],
   "source": [
    "x,y,z=\"Tanish\",\"Aadhira\",\"Darshan\"\n",
    "print(x,y,z)"
   ]
  },
  {
   "cell_type": "markdown",
   "id": "ae605c1e",
   "metadata": {},
   "source": [
    "### Assigning one value to multiple variables\n",
    "Python allows you one single value to multiple variables\n"
   ]
  },
  {
   "cell_type": "code",
   "execution_count": 5,
   "id": "0340b92a",
   "metadata": {},
   "outputs": [
    {
     "name": "stdout",
     "output_type": "stream",
     "text": [
      "Tejaswini\n",
      "Tejaswini\n",
      "Tejaswini\n"
     ]
    }
   ],
   "source": [
    "x=y=z=\"Tejaswini\"\n",
    "print(x)\n",
    "print(y)\n",
    "print(z)"
   ]
  },
  {
   "cell_type": "markdown",
   "id": "5adef3bc",
   "metadata": {},
   "source": [
    " Data types\n",
    "\n",
    "A data type is an attribute of a piece of data that tells a device how the end-user might interact with the data. \n",
    "\n",
    "\n",
    "\n",
    "\n",
    "\n"
   ]
  },
  {
   "cell_type": "code",
   "execution_count": 6,
   "id": "97659a65",
   "metadata": {},
   "outputs": [
    {
     "name": "stdout",
     "output_type": "stream",
     "text": [
      "<class 'int'>\n",
      "<class 'int'>\n",
      "<class 'bool'>\n",
      "<class 'NoneType'>\n"
     ]
    }
   ],
   "source": [
    "print(type(a))\n",
    "print(type(A))\n",
    "print(type(False))\n",
    "print(type(None))"
   ]
  },
  {
   "cell_type": "markdown",
   "id": "0d8b003a",
   "metadata": {},
   "source": [
    "Number\n",
    "\n",
    "Integer\n",
    "float\n",
    "complex"
   ]
  },
  {
   "cell_type": "code",
   "execution_count": 7,
   "id": "5570e534",
   "metadata": {},
   "outputs": [
    {
     "name": "stdout",
     "output_type": "stream",
     "text": [
      "<class 'int'>\n"
     ]
    }
   ],
   "source": [
    "c=2\n",
    "print(type(c))"
   ]
  },
  {
   "cell_type": "code",
   "execution_count": 8,
   "id": "12554092",
   "metadata": {},
   "outputs": [
    {
     "name": "stdout",
     "output_type": "stream",
     "text": [
      "<class 'float'>\n"
     ]
    }
   ],
   "source": [
    "d=2.5\n",
    "print(type(d))"
   ]
  },
  {
   "cell_type": "code",
   "execution_count": 9,
   "id": "3226f326",
   "metadata": {},
   "outputs": [
    {
     "name": "stdout",
     "output_type": "stream",
     "text": [
      "<class 'complex'>\n"
     ]
    }
   ],
   "source": [
    "e=1+2j\n",
    "print(type(e))"
   ]
  },
  {
   "cell_type": "markdown",
   "id": "36e0834f",
   "metadata": {},
   "source": [
    "### Type casting"
   ]
  },
  {
   "cell_type": "code",
   "execution_count": 11,
   "id": "665fdb8e",
   "metadata": {},
   "outputs": [
    {
     "name": "stdout",
     "output_type": "stream",
     "text": [
      "<class 'int'>\n"
     ]
    }
   ],
   "source": [
    "a=3\n",
    "print(type(a))"
   ]
  },
  {
   "cell_type": "code",
   "execution_count": 12,
   "id": "dc78fe8a",
   "metadata": {},
   "outputs": [
    {
     "name": "stdout",
     "output_type": "stream",
     "text": [
      "<class 'float'>\n"
     ]
    }
   ],
   "source": [
    "a=float(a)\n",
    "print(type(a))"
   ]
  },
  {
   "cell_type": "code",
   "execution_count": 13,
   "id": "fac87bb0",
   "metadata": {},
   "outputs": [
    {
     "name": "stdout",
     "output_type": "stream",
     "text": [
      "3.0\n"
     ]
    }
   ],
   "source": [
    "print(a)"
   ]
  },
  {
   "cell_type": "code",
   "execution_count": 14,
   "id": "780a3d84",
   "metadata": {},
   "outputs": [
    {
     "name": "stdout",
     "output_type": "stream",
     "text": [
      "<class 'float'>\n"
     ]
    }
   ],
   "source": [
    "b=4.6\n",
    "print(type(b))"
   ]
  },
  {
   "cell_type": "code",
   "execution_count": 15,
   "id": "d7956b27",
   "metadata": {},
   "outputs": [
    {
     "name": "stdout",
     "output_type": "stream",
     "text": [
      "4\n",
      "<class 'int'>\n"
     ]
    }
   ],
   "source": [
    "b=int(b)\n",
    "print(b)\n",
    "print(type(b))"
   ]
  },
  {
   "cell_type": "markdown",
   "id": "9a906601",
   "metadata": {},
   "source": [
    "### String"
   ]
  },
  {
   "cell_type": "code",
   "execution_count": 17,
   "id": "e1c6b40f",
   "metadata": {},
   "outputs": [
    {
     "name": "stdout",
     "output_type": "stream",
     "text": [
      "Tanish prajan\n",
      "Aadhira\n"
     ]
    }
   ],
   "source": [
    "c=\"Tanish prajan\"  #Should be given within \"\" or ''\n",
    "d='Aadhira'\n",
    "\n",
    "print(c)\n",
    "print(d)"
   ]
  },
  {
   "cell_type": "markdown",
   "id": "56a30c4c",
   "metadata": {},
   "source": [
    "### String Indexing and slicing"
   ]
  },
  {
   "cell_type": "code",
   "execution_count": 18,
   "id": "769945cd",
   "metadata": {},
   "outputs": [
    {
     "name": "stdout",
     "output_type": "stream",
     "text": [
      "Tejaswini\n"
     ]
    },
    {
     "data": {
      "text/plain": [
       "'a'"
      ]
     },
     "execution_count": 18,
     "metadata": {},
     "output_type": "execute_result"
    }
   ],
   "source": [
    "f=\"Tejaswini\"\n",
    "print(f)\n",
    "f[3]            # To select a particular letter .positive starts from 0,negative starts from -1"
   ]
  },
  {
   "cell_type": "code",
   "execution_count": 20,
   "id": "d9d73675",
   "metadata": {},
   "outputs": [
    {
     "data": {
      "text/plain": [
       "'aswi'"
      ]
     },
     "execution_count": 20,
     "metadata": {},
     "output_type": "execute_result"
    }
   ],
   "source": [
    "f[3:7]"
   ]
  },
  {
   "cell_type": "code",
   "execution_count": 23,
   "id": "fe62a698",
   "metadata": {},
   "outputs": [
    {
     "data": {
      "text/plain": [
       "9"
      ]
     },
     "execution_count": 23,
     "metadata": {},
     "output_type": "execute_result"
    }
   ],
   "source": [
    "len(f) # to find the length of the string"
   ]
  },
  {
   "cell_type": "code",
   "execution_count": 27,
   "id": "96020156",
   "metadata": {},
   "outputs": [
    {
     "data": {
      "text/plain": [
       "7"
      ]
     },
     "execution_count": 27,
     "metadata": {},
     "output_type": "execute_result"
    }
   ],
   "source": [
    "f.index('n')"
   ]
  },
  {
   "cell_type": "markdown",
   "id": "9052d0d8",
   "metadata": {},
   "source": [
    "### Update string"
   ]
  },
  {
   "cell_type": "code",
   "execution_count": 28,
   "id": "cdea46d6",
   "metadata": {},
   "outputs": [
    {
     "data": {
      "text/plain": [
       "'Rejaswini'"
      ]
     },
     "execution_count": 28,
     "metadata": {},
     "output_type": "execute_result"
    }
   ],
   "source": [
    "f=\"Tejaswini\"\n",
    "f.replace('T','R')"
   ]
  },
  {
   "cell_type": "code",
   "execution_count": 30,
   "id": "32852410",
   "metadata": {},
   "outputs": [
    {
     "data": {
      "text/plain": [
       "'Aadhira'"
      ]
     },
     "execution_count": 30,
     "metadata": {},
     "output_type": "execute_result"
    }
   ],
   "source": [
    "f.replace(\"Tejaswini\",\"Aadhira\")"
   ]
  },
  {
   "cell_type": "markdown",
   "id": "d3ef3a07",
   "metadata": {},
   "source": [
    "### Concat string"
   ]
  },
  {
   "cell_type": "code",
   "execution_count": 31,
   "id": "ba869532",
   "metadata": {},
   "outputs": [
    {
     "data": {
      "text/plain": [
       "'Aadhirais an angel'"
      ]
     },
     "execution_count": 31,
     "metadata": {},
     "output_type": "execute_result"
    }
   ],
   "source": [
    "f=\"Aadhira\"\n",
    "g=\"is an angel\"\n",
    "\n",
    "f+ '' +g  #need to use white space"
   ]
  },
  {
   "cell_type": "markdown",
   "id": "146667f3",
   "metadata": {},
   "source": [
    "### Format string"
   ]
  },
  {
   "cell_type": "code",
   "execution_count": 38,
   "id": "3df26d4c",
   "metadata": {},
   "outputs": [
    {
     "name": "stdout",
     "output_type": "stream",
     "text": [
      "Hi im Tanish Im a good boy at the age of 7\n"
     ]
    }
   ],
   "source": [
    "name=\"Tanish\"\n",
    "age=7\n",
    "\n",
    "txt=\"Hi im {} Im a good boy at the age of {}\"\n",
    "print(txt.format(name,age))"
   ]
  },
  {
   "cell_type": "code",
   "execution_count": 44,
   "id": "58766213",
   "metadata": {},
   "outputs": [
    {
     "name": "stdout",
     "output_type": "stream",
     "text": [
      "Hi im Tanish Im a good boy at the age of 7\n"
     ]
    }
   ],
   "source": [
    "name=\"Tanish\"  #with index\n",
    "age=7\n",
    "\n",
    "txt=f\"Hi im {name} Im a good boy at the age of {age}\"\n",
    "\n",
    "print(txt)"
   ]
  },
  {
   "cell_type": "markdown",
   "id": "dc267279",
   "metadata": {},
   "source": [
    "### Escape characters"
   ]
  },
  {
   "cell_type": "code",
   "execution_count": 48,
   "id": "2fd0a573",
   "metadata": {},
   "outputs": [
    {
     "name": "stdout",
     "output_type": "stream",
     "text": [
      "Tanish\n",
      " is a clever boy\n"
     ]
    }
   ],
   "source": [
    "f=\"Tanish\\n is a clever boy\"\n",
    "print(f)"
   ]
  },
  {
   "cell_type": "code",
   "execution_count": 49,
   "id": "8d55e8b4",
   "metadata": {},
   "outputs": [],
   "source": [
    "import datetime"
   ]
  },
  {
   "cell_type": "code",
   "execution_count": 50,
   "id": "c2af5e0e",
   "metadata": {},
   "outputs": [
    {
     "name": "stdout",
     "output_type": "stream",
     "text": [
      "2023-10-27\n"
     ]
    }
   ],
   "source": [
    "date=datetime.date\n",
    "a=date.today()\n",
    "print(a)"
   ]
  },
  {
   "cell_type": "code",
   "execution_count": 53,
   "id": "1e9cac93",
   "metadata": {},
   "outputs": [
    {
     "data": {
      "text/plain": [
       "\"Today's date\""
      ]
     },
     "execution_count": 53,
     "metadata": {},
     "output_type": "execute_result"
    }
   ],
   "source": [
    "a='Today\\'s date'\n",
    "a"
   ]
  },
  {
   "cell_type": "code",
   "execution_count": 55,
   "id": "8ff3f284",
   "metadata": {},
   "outputs": [
    {
     "name": "stdout",
     "output_type": "stream",
     "text": [
      "<class 'str'>\n"
     ]
    },
    {
     "data": {
      "text/plain": [
       "'2'"
      ]
     },
     "execution_count": 55,
     "metadata": {},
     "output_type": "execute_result"
    }
   ],
   "source": [
    "a=2\n",
    "a=str(a)\n",
    "print(type(a))\n",
    "a"
   ]
  },
  {
   "cell_type": "code",
   "execution_count": null,
   "id": "d2fcb217",
   "metadata": {},
   "outputs": [],
   "source": []
  },
  {
   "cell_type": "code",
   "execution_count": null,
   "id": "169eb798",
   "metadata": {},
   "outputs": [],
   "source": []
  }
 ],
 "metadata": {
  "kernelspec": {
   "display_name": "Python 3 (ipykernel)",
   "language": "python",
   "name": "python3"
  },
  "language_info": {
   "codemirror_mode": {
    "name": "ipython",
    "version": 3
   },
   "file_extension": ".py",
   "mimetype": "text/x-python",
   "name": "python",
   "nbconvert_exporter": "python",
   "pygments_lexer": "ipython3",
   "version": "3.11.4"
  }
 },
 "nbformat": 4,
 "nbformat_minor": 5
}
